{
  "nbformat": 4,
  "nbformat_minor": 0,
  "metadata": {
    "colab": {
      "provenance": []
    },
    "kernelspec": {
      "name": "python3",
      "display_name": "Python 3"
    },
    "language_info": {
      "name": "python"
    }
  },
  "cells": [
    {
      "cell_type": "markdown",
      "source": [
        "# Santander Dev Week 2023 (ETL com Python)"
      ],
      "metadata": {
        "id": "BPJQsTCULaC-"
      }
    },
    {
      "cell_type": "markdown",
      "source": [
        "**Contexto:** Você é um cientista de dados no Santander e recebeu a tarefa de envolver seus clientes de maneira mais personalizada. Seu objetivo é usar o poder da IA Generativa para criar mensagens de marketing personalizadas que serão entregues a cada cliente.\n",
        "\n",
        "**Condições do Problema:**\n",
        "\n",
        "1. Você recebeu uma planilha simples, em formato CSV ('SDW2023.csv'), com uma lista de IDs de usuário do banco:\n",
        "  ```\n",
        "  UserID\n",
        "  1\n",
        "  2\n",
        "  3\n",
        "  4\n",
        "  5\n",
        "  ```\n",
        "2. Seu trabalho é consumir o endpoint `GET https://sdw-2023-prd.up.railway.app/users/{id}` (API da Santander Dev Week 2023) para obter os dados de cada cliente.\n",
        "3. Depois de obter os dados dos clientes, você vai usar a API do ChatGPT (OpenAI) para gerar uma mensagem de marketing personalizada para cada cliente. Essa mensagem deve enfatizar a importância dos investimentos.\n",
        "4. Uma vez que a mensagem para cada cliente esteja pronta, você vai enviar essas informações de volta para a API, atualizando a lista de \"news\" de cada usuário usando o endpoint `PUT https://sdw-2023-prd.up.railway.app/users/{id}`.\n",
        "\n"
      ],
      "metadata": {
        "id": "k5fA5OrXt1a3"
      }
    },
    {
      "cell_type": "code",
      "source": [
        "# Utilize sua própria URL se quiser ;)\n",
        "# Repositório da API: https://github.com/digitalinnovationone/santander-dev-week-2023-api\n",
        "sdw2023_api_url = 'https://sdw-2023-prd.up.railway.app'"
      ],
      "metadata": {
        "id": "FKqLC_CWoYqR"
      },
      "execution_count": 1,
      "outputs": []
    },
    {
      "cell_type": "markdown",
      "source": [
        "## **E**xtract\n",
        "\n",
        "Extraia a lista de IDs de usuário a partir do arquivo CSV. Para cada ID, faça uma requisição GET para obter os dados do usuário correspondente."
      ],
      "metadata": {
        "id": "9dfI-o7gLRq9"
      }
    },
    {
      "cell_type": "code",
      "execution_count": 7,
      "metadata": {
        "id": "NYydpX_GLRCB",
        "outputId": "5d45f044-aa2b-4fb2-eb34-ada5ca53bb79",
        "colab": {
          "base_uri": "https://localhost:8080/"
        }
      },
      "outputs": [
        {
          "output_type": "stream",
          "name": "stdout",
          "text": [
            "[5520, 5522, 5523, 5526]\n"
          ]
        }
      ],
      "source": [
        "import pandas as pd\n",
        "\n",
        "df = pd.read_csv('SDW_2023.csv')\n",
        "user_ids = df['UserID'].tolist()\n",
        "print(user_ids)"
      ]
    },
    {
      "cell_type": "code",
      "source": [
        "import requests\n",
        "import json\n",
        "\n",
        "def get_user(id):\n",
        "  response = requests.get(f'{sdw2023_api_url}/users/{id}')\n",
        "  return response.json() if response.status_code == 200 else None\n",
        "\n",
        "users = [user for id in user_ids if (user := get_user(id)) is not None]\n",
        "print(json.dumps(users, indent=2))"
      ],
      "metadata": {
        "id": "F5XOuCZGSTGw",
        "colab": {
          "base_uri": "https://localhost:8080/"
        },
        "outputId": "c2f913a0-0b43-45e5-9cc8-1bda0b9e94ca"
      },
      "execution_count": 40,
      "outputs": [
        {
          "output_type": "stream",
          "name": "stdout",
          "text": [
            "[\n",
            "  {\n",
            "    \"id\": 5520,\n",
            "    \"name\": \"Bartz\",\n",
            "    \"account\": {\n",
            "      \"id\": 5851,\n",
            "      \"number\": \"3766-9\",\n",
            "      \"agency\": \"0001\",\n",
            "      \"balance\": 0.0,\n",
            "      \"limit\": 500.0\n",
            "    },\n",
            "    \"card\": {\n",
            "      \"id\": 5361,\n",
            "      \"number\": \"3036 9274 8502 6027\",\n",
            "      \"limit\": 1000.0\n",
            "    },\n",
            "    \"features\": [],\n",
            "    \"news\": []\n",
            "  },\n",
            "  {\n",
            "    \"id\": 5522,\n",
            "    \"name\": \"Terra\",\n",
            "    \"account\": {\n",
            "      \"id\": 5853,\n",
            "      \"number\": \"3767-9\",\n",
            "      \"agency\": \"0001\",\n",
            "      \"balance\": 0.0,\n",
            "      \"limit\": 500.0\n",
            "    },\n",
            "    \"card\": {\n",
            "      \"id\": 5363,\n",
            "      \"number\": \"3036 9274 8502 6028\",\n",
            "      \"limit\": 1000.0\n",
            "    },\n",
            "    \"features\": [],\n",
            "    \"news\": []\n",
            "  },\n",
            "  {\n",
            "    \"id\": 5523,\n",
            "    \"name\": \"Cloud\",\n",
            "    \"account\": {\n",
            "      \"id\": 5854,\n",
            "      \"number\": \"3768-9\",\n",
            "      \"agency\": \"0001\",\n",
            "      \"balance\": 0.0,\n",
            "      \"limit\": 500.0\n",
            "    },\n",
            "    \"card\": {\n",
            "      \"id\": 5364,\n",
            "      \"number\": \"3036 9274 8502 6029\",\n",
            "      \"limit\": 1000.0\n",
            "    },\n",
            "    \"features\": [],\n",
            "    \"news\": []\n",
            "  },\n",
            "  {\n",
            "    \"id\": 5526,\n",
            "    \"name\": \"Leif\",\n",
            "    \"account\": {\n",
            "      \"id\": 5857,\n",
            "      \"number\": \"0776-5\",\n",
            "      \"agency\": \"0776\",\n",
            "      \"balance\": 7.76,\n",
            "      \"limit\": 500.0\n",
            "    },\n",
            "    \"card\": {\n",
            "      \"id\": 5367,\n",
            "      \"number\": \"0776 0776 0776 0776\",\n",
            "      \"limit\": 1000.0\n",
            "    },\n",
            "    \"features\": [],\n",
            "    \"news\": []\n",
            "  }\n",
            "]\n"
          ]
        }
      ]
    },
    {
      "cell_type": "markdown",
      "source": [
        "## **T**ransform\n",
        "\n",
        "Utilize a API do OpenAI GPT-4 para gerar uma mensagem de marketing personalizada para cada usuário."
      ],
      "metadata": {
        "id": "cWoqInB4TF1x"
      }
    },
    {
      "cell_type": "code",
      "source": [
        "!pip install openai"
      ],
      "metadata": {
        "id": "O--PCAObTQkK",
        "outputId": "dc7f562a-34a5-4a4f-bb1c-7c711ef06987",
        "colab": {
          "base_uri": "https://localhost:8080/"
        }
      },
      "execution_count": null,
      "outputs": [
        {
          "output_type": "stream",
          "name": "stdout",
          "text": [
            "Requirement already satisfied: openai in /usr/local/lib/python3.10/dist-packages (0.28.1)\n",
            "Requirement already satisfied: requests>=2.20 in /usr/local/lib/python3.10/dist-packages (from openai) (2.31.0)\n",
            "Requirement already satisfied: tqdm in /usr/local/lib/python3.10/dist-packages (from openai) (4.66.1)\n",
            "Requirement already satisfied: aiohttp in /usr/local/lib/python3.10/dist-packages (from openai) (3.8.6)\n",
            "Requirement already satisfied: charset-normalizer<4,>=2 in /usr/local/lib/python3.10/dist-packages (from requests>=2.20->openai) (3.3.0)\n",
            "Requirement already satisfied: idna<4,>=2.5 in /usr/local/lib/python3.10/dist-packages (from requests>=2.20->openai) (3.4)\n",
            "Requirement already satisfied: urllib3<3,>=1.21.1 in /usr/local/lib/python3.10/dist-packages (from requests>=2.20->openai) (2.0.6)\n",
            "Requirement already satisfied: certifi>=2017.4.17 in /usr/local/lib/python3.10/dist-packages (from requests>=2.20->openai) (2023.7.22)\n",
            "Requirement already satisfied: attrs>=17.3.0 in /usr/local/lib/python3.10/dist-packages (from aiohttp->openai) (23.1.0)\n",
            "Requirement already satisfied: multidict<7.0,>=4.5 in /usr/local/lib/python3.10/dist-packages (from aiohttp->openai) (6.0.4)\n",
            "Requirement already satisfied: async-timeout<5.0,>=4.0.0a3 in /usr/local/lib/python3.10/dist-packages (from aiohttp->openai) (4.0.3)\n",
            "Requirement already satisfied: yarl<2.0,>=1.0 in /usr/local/lib/python3.10/dist-packages (from aiohttp->openai) (1.9.2)\n",
            "Requirement already satisfied: frozenlist>=1.1.1 in /usr/local/lib/python3.10/dist-packages (from aiohttp->openai) (1.4.0)\n",
            "Requirement already satisfied: aiosignal>=1.1.2 in /usr/local/lib/python3.10/dist-packages (from aiohttp->openai) (1.3.1)\n"
          ]
        }
      ]
    },
    {
      "cell_type": "code",
      "source": [
        "# Documentação Oficial da API OpenAI: https://platform.openai.com/docs/api-reference/introduction\n",
        "# Informações sobre o Período Gratuito: https://help.openai.com/en/articles/4936830\n",
        "\n",
        "# Para gerar uma API Key:\n",
        "# 1. Crie uma conta na OpenAI\n",
        "# 2. Acesse a seção \"API Keys\"\n",
        "# 3. Clique em \"Create API Key\"\n",
        "# Link direto: https://platform.openai.com/account/api-keys\n",
        "\n",
        "# Substitua o texto TODO por sua API Key da OpenAI, ela será salva como uma variável de ambiente.\n",
        "openai_api_key = ''"
      ],
      "metadata": {
        "id": "sUB1doiDTX3y"
      },
      "execution_count": null,
      "outputs": []
    },
    {
      "cell_type": "code",
      "source": [
        "# Programa de verificação de id e transferência de crédito\n",
        "\n",
        "def transferencia(id, account_id, account_number, account_agency, user_ids_def):\n",
        "\n",
        "  tries = 1\n",
        "  prosseguir = False\n",
        "  dados = {}\n",
        "  receptor_id = 0\n",
        "\n",
        "  while prosseguir == False:\n",
        "    for y in range(0, len(users)):\n",
        "      if id == users[y]['id'] and account_id == users[y][\"account\"][\"id\"] and account_number == users[y][\"account\"][\"number\"] and account_agency == users[y][\"account\"][\"agency\"]:\n",
        "        print(users[y]['id'])\n",
        "        dados.setdefault(\"id\",users[y][\"id\"])\n",
        "        dados.setdefault(\"name\", users[y][\"name\"])\n",
        "        dados.setdefault(\"id_account\",users[y][\"account\"][\"id\"])\n",
        "        dados.setdefault(\"number_account\",users[y][\"account\"][\"number\"])\n",
        "        dados.setdefault(\"agency_account\",users[y][\"account\"][\"agency\"])\n",
        "        dados.setdefault(\"agency_account\",users[y][\"account\"][\"balance\"])\n",
        "        dados.setdefault(\"agency_account\",users[y][\"account\"][\"limit\"])\n",
        "        print(f\"Dados da conta {dados}\")\n",
        "        prosseguir = True\n",
        "        break\n",
        "    if prosseguir == False:\n",
        "      if tries == 10:\n",
        "        try:\n",
        "          raise SystemExit\n",
        "        except:\n",
        "          raise Exception('Número máximo de tentativas excedidas')\n",
        "      id = int(input(\"Seu ID está inválido, digite outro ID: \"))\n",
        "      account_id = int(input(\"ID da conta inválido, digite outro ID: \"))\n",
        "      account_number = str(input(\"Número da conta inválido, digite outro número: \"))\n",
        "      account_agency = str(input(\"Agência da conta inválida, digite outra agência: \"))\n",
        "      tries = tries +1\n",
        "\n",
        "\n",
        "  iniciar = input(str('Deseja fazer uma transferência ? \\nSim (s) ou Não (n): '))\n",
        "  sim_nao = [['s', 'S', '(s)', '(S)', 'sim', 'SIM', 'Sim', '(sim)', '(SIM)', '(Sim)'],['n', 'N', '(n)', '(N)', 'não', 'NÃO', 'Não', '(não)', '(NÃO)', '(Não)']]\n",
        "  while iniciar not in sim_nao[0] and iniciar not in sim_nao[1]:\n",
        "    iniciar = input('Me desculpe mas não pude entender o que é para ser feito \\nDeseja fazer uma transferência ? \\nSim (s) ou Não (n): ')\n",
        "    if iniciar in sim_nao[0] or iniciar in sim_nao[1]:\n",
        "      break\n",
        "  if iniciar in sim_nao[0]:\n",
        "    print('Sim')\n",
        "  if iniciar in sim_nao[1]:\n",
        "    try:\n",
        "      raise SystemExit\n",
        "    except:\n",
        "      raise Exception('Tenha um bom dia')\n",
        "\n",
        "  print(\"Carragenado usuários...\")\n",
        "\n",
        "  prosseguir = False\n",
        "  not_found = 0\n",
        "  while prosseguir == False:\n",
        "    receptor_id = int(input(\"Digite o ID da pessoa que você deseja transferir: \"))\n",
        "    for i in range(0, len(users)):\n",
        "      if users[i]['id'] == receptor_id and receptor_id != id:\n",
        "        iniciar = input(str(f\"Confirme as informações antes de prosseguir:\\nUsuário(a): {users[i]['name']}\\nID: {receptor_id}\\n\\nAs informações estão corretas ? \\nSim (s) ou Não (n) ?: \"))\n",
        "        if iniciar in sim_nao[0]:\n",
        "          print('Sim\\n')\n",
        "          prosseguir = True\n",
        "          break\n",
        "        if iniciar in sim_nao[1]:\n",
        "          print('Não')\n",
        "      else:\n",
        "        not_found = not_found + 1\n",
        "      if not_found == len(users):\n",
        "        if receptor_id == id:\n",
        "          print(\"Você não pode selecionar a si mesmo para fazer uma transferência\")\n",
        "        else:\n",
        "          print('Usuário não encontrado')\n",
        "        not_found = 0\n",
        "\n",
        "\n",
        "\n",
        "  choice = input(\"Deseja fazer transferência por boleto (1) ou por crédito (2) ?: \")\n",
        "  debito = [1, '(1)','1']\n",
        "  credito = [2, '(2)','2']\n",
        "  cond = False\n",
        "  if choice in debito or choice in credito:\n",
        "    cond = True\n",
        "  else:\n",
        "    while cond == False:\n",
        "      print(\"Opção não encontrada\")\n",
        "      choice = input(\"Deseja fazer transferência por boleto (1) ou por crédito (2) ?: \")\n",
        "      if choice in debito or choice in credito:\n",
        "        cond = True\n",
        "        break\n",
        "\n",
        "  saldo_acc = users[y]['account']['balance']\n",
        "  limite_acc = users[y]['account']['limit']\n",
        "  limite_cred = users[y]['card']['limit']\n",
        "  saldo_acc_recept = users[i]['account']['balance']\n",
        "\n",
        "  if choice in debito:\n",
        "    print(f\"Saldo: {users[y]['account']['balance']}\\nLimite: {users[y]['account']['limit']}\")\n",
        "    transf = float(input(\"Digite o valor da transferência: \"))\n",
        "    if transf == 0:\n",
        "      print('Nenhum valor selecionado para a transferência')\n",
        "    if transf > saldo_acc and transf != 0:\n",
        "      print('Saldo insulficiente')\n",
        "    if transf < saldo_acc and transf != 0:\n",
        "      if limite_acc < transf:\n",
        "        print('Limite insuficiente:')\n",
        "      else:\n",
        "        limite_acc = limite_acc-transf\n",
        "        saldo_acc = saldo_acc-transf\n",
        "        saldo_acc_recept = saldo_acc_recept + transf\n",
        "        print('Transferência concluída')\n",
        "        print(f'Saldo: {saldo_acc}R$, limite: {limite_acc}R$, transferência de: {transf}R$')\n",
        "  if choice in credito:\n",
        "    print(f\"Limite: {users[y]['card']['limit']}\")\n",
        "    transf = float(input(\"Digite o valor da transferência: \"))\n",
        "    if transf == 0:\n",
        "      print('Nenhum valor selecionado para a transferência')\n",
        "    if transf > limite_cred and transf != 0:\n",
        "      print('Limite insulficiente')\n",
        "    if transf < limite_cred and transf != 0:\n",
        "      limite_cred = limite_cred-transf\n",
        "      saldo_acc_recept = saldo_acc_recept + transf\n",
        "      print('\\nTransferência concluída')\n",
        "      print(f'Limite do cartão: {limite_cred}R$, transferência de: {transf}R$')\n",
        "\n",
        "transferencia(id = int(input(\"Digite seu id: \")),account_id = int(input(\"Digite o número do id da conta: \")), account_number = str(input(\"Digite o número do conta: \")), account_agency = str(input(\"Digite a agência do conta: \")), user_ids_def = user_ids)"
      ],
      "metadata": {
        "colab": {
          "base_uri": "https://localhost:8080/"
        },
        "id": "plMZVgm682Xz",
        "outputId": "a6120947-de35-4eee-9a42-967ebcebd42d"
      },
      "execution_count": 161,
      "outputs": [
        {
          "output_type": "stream",
          "name": "stdout",
          "text": [
            "Digite seu id: 5526\n",
            "Digite o número do id da conta: 5857\n",
            "Digite o número do conta: 0776-5\n",
            "Digite a agência do conta: 0776\n",
            "5526\n",
            "Dados da conta {'id': 5526, 'name': 'Leif', 'id_account': 5857, 'number_account': '0776-5', 'agency_account': '0776'}\n",
            "Deseja fazer uma transferência ? \n",
            "Sim (s) ou Não (n): s\n",
            "Sim\n",
            "Carragenado usuários...\n",
            "Digite o ID da pessoa que você deseja transferir: 5526\n",
            "Você não pode selecionar a si mesmo para fazer uma transferência\n",
            "Digite o ID da pessoa que você deseja transferir: 1\n",
            "Usuário não encontrado\n",
            "Digite o ID da pessoa que você deseja transferir: 5520\n",
            "Confirme as informações antes de prosseguir:\n",
            "Usuário(a): Bartz\n",
            "ID: 5520\n",
            "\n",
            "As informações estão corretas ? \n",
            "Sim (s) ou Não (n) ?: n\n",
            "Não\n",
            "Digite o ID da pessoa que você deseja transferir: 5522\n",
            "Usuário não encontrado\n",
            "Confirme as informações antes de prosseguir:\n",
            "Usuário(a): Terra\n",
            "ID: 5522\n",
            "\n",
            "As informações estão corretas ? \n",
            "Sim (s) ou Não (n) ?: n\n",
            "Não\n",
            "Digite o ID da pessoa que você deseja transferir: 5523\n",
            "Usuário não encontrado\n",
            "Confirme as informações antes de prosseguir:\n",
            "Usuário(a): Cloud\n",
            "ID: 5523\n",
            "\n",
            "As informações estão corretas ? \n",
            "Sim (s) ou Não (n) ?: s\n",
            "Sim\n",
            "\n",
            "Deseja fazer transferência por boleto (1) ou por crédito (2) ?: 1\n",
            "Saldo: 7.76\n",
            "Limite: 500.0\n",
            "Digite o valor da transferência: 0\n",
            "Nenhum valor selecionado para a transferência\n"
          ]
        }
      ]
    },
    {
      "cell_type": "code",
      "source": [
        "import openai\n",
        "\n",
        "openai.api_key = openai_api_key\n",
        "\n",
        "def generate_ai_news(user):\n",
        "  completion = openai.ChatCompletion.create(\n",
        "    model=\"gpt-4\",\n",
        "    messages=[\n",
        "      {\n",
        "          \"role\": \"system\",\n",
        "          \"content\": \"Você é um especialista em marketing bancário.\"\n",
        "      },\n",
        "      {\n",
        "          \"role\": \"user\",\n",
        "          \"content\": f\"Crie uma mensagem para {user['name']} sobre a importância dos investimentos (máximo de 100 caracteres)\"\n",
        "      }\n",
        "    ]\n",
        "  )\n",
        "  return completion.choices[0].message.content.strip('\\\"')\n",
        "\n",
        "for user in users:\n",
        "  news = generate_ai_news(user)\n",
        "  print(news)\n",
        "  user['news'].append({\n",
        "      \"icon\": \"https://digitalinnovationone.github.io/santander-dev-week-2023-api/icons/credit.svg\",\n",
        "      \"description\": news\n",
        "  })"
      ],
      "metadata": {
        "id": "n1w78kNxTrZY",
        "colab": {
          "base_uri": "https://localhost:8080/"
        },
        "outputId": "b3732006-e25c-4c82-e068-ec7ffca14471"
      },
      "execution_count": null,
      "outputs": [
        {
          "output_type": "stream",
          "name": "stdout",
          "text": [
            "Pyterson, invista para fazer seu dinheiro crescer. Seu futuro financeiro depende disso!\n",
            "Pip, investir é o caminho para multiplicar seu dinheiro. Vamos fortalecer seu futuro financeiro!\n",
            "Pep, investimentos são a chave para o futuro financeiro. Cresça seu dinheiro, não apenas o guarde!\n"
          ]
        }
      ]
    },
    {
      "cell_type": "markdown",
      "source": [
        "## **L**oad\n",
        "\n",
        "Atualize a lista de \"news\" de cada usuário na API com a nova mensagem gerada."
      ],
      "metadata": {
        "id": "kNuP0SDUZMBY"
      }
    },
    {
      "cell_type": "code",
      "source": [
        "def update_user(user):\n",
        "  response = requests.put(f\"{sdw2023_api_url}/users/{user['id']}\", json=user)\n",
        "  return True if response.status_code == 200 else False\n",
        "\n",
        "for user in users:\n",
        "  success = update_user(user)\n",
        "  print(f\"User {user['name']} updated? {success}!\")"
      ],
      "metadata": {
        "id": "YefWfYBoZMN2",
        "colab": {
          "base_uri": "https://localhost:8080/"
        },
        "outputId": "b0c06200-e14e-4cce-901f-a85ea3eb2830"
      },
      "execution_count": null,
      "outputs": [
        {
          "output_type": "stream",
          "name": "stdout",
          "text": [
            "User Pyterson updated? True!\n",
            "User Pip updated? True!\n",
            "User Pep updated? True!\n"
          ]
        }
      ]
    }
  ]
}